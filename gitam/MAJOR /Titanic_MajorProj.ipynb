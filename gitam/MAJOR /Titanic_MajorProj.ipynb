{
  "nbformat": 4,
  "nbformat_minor": 0,
  "metadata": {
    "colab": {
      "name": "Titanic_MajorProj.ipynb",
      "provenance": [],
      "collapsed_sections": []
    },
    "kernelspec": {
      "display_name": "Python 3",
      "language": "python",
      "name": "python3"
    },
    "language_info": {
      "codemirror_mode": {
        "name": "ipython",
        "version": 3
      },
      "file_extension": ".py",
      "mimetype": "text/x-python",
      "name": "python",
      "nbconvert_exporter": "python",
      "pygments_lexer": "ipython3",
      "version": "3.7.6"
    }
  },
  "cells": [
    {
      "cell_type": "code",
      "metadata": {
        "id": "crBaI5HHGlrp"
      },
      "source": [
        ""
      ],
      "execution_count": null,
      "outputs": []
    },
    {
      "cell_type": "code",
      "metadata": {
        "colab": {
          "base_uri": "https://localhost:8080/"
        },
        "id": "V2LdnU3IKNGD",
        "outputId": "4320a47a-77f4-4c1e-ceeb-cf9fe83417e9"
      },
      "source": [
        "from google.colab import drive\n",
        "drive.mount('/content/drive')"
      ],
      "execution_count": null,
      "outputs": [
        {
          "output_type": "stream",
          "text": [
            "Mounted at /content/drive\n"
          ],
          "name": "stdout"
        }
      ]
    },
    {
      "cell_type": "code",
      "metadata": {
        "id": "HHKVFSU7RYqS"
      },
      "source": [
        "import pandas as pd\n",
        "import numpy as np\n",
        "import matplotlib.pyplot as plt\n",
        "import seaborn as sns"
      ],
      "execution_count": null,
      "outputs": []
    },
    {
      "cell_type": "code",
      "metadata": {
        "id": "30rcGwX3Rrtb"
      },
      "source": [
        "df = pd.read_csv('/content/drive/MyDrive/titanic_data.csv')"
      ],
      "execution_count": null,
      "outputs": []
    },
    {
      "cell_type": "code",
      "metadata": {
        "colab": {
          "base_uri": "https://localhost:8080/",
          "height": 204
        },
        "id": "EXvbgBLfRzSV",
        "outputId": "2ec70ee4-9e78-4cd0-d564-79bfe9d9029e"
      },
      "source": [
        "df.head()"
      ],
      "execution_count": null,
      "outputs": [
        {
          "output_type": "execute_result",
          "data": {
            "text/html": [
              "<div>\n",
              "<style scoped>\n",
              "    .dataframe tbody tr th:only-of-type {\n",
              "        vertical-align: middle;\n",
              "    }\n",
              "\n",
              "    .dataframe tbody tr th {\n",
              "        vertical-align: top;\n",
              "    }\n",
              "\n",
              "    .dataframe thead th {\n",
              "        text-align: right;\n",
              "    }\n",
              "</style>\n",
              "<table border=\"1\" class=\"dataframe\">\n",
              "  <thead>\n",
              "    <tr style=\"text-align: right;\">\n",
              "      <th></th>\n",
              "      <th>PassengerId</th>\n",
              "      <th>Survived</th>\n",
              "      <th>Pclass</th>\n",
              "      <th>Name</th>\n",
              "      <th>Sex</th>\n",
              "      <th>Age</th>\n",
              "      <th>SibSp</th>\n",
              "      <th>Parch</th>\n",
              "      <th>Ticket</th>\n",
              "      <th>Fare</th>\n",
              "      <th>Cabin</th>\n",
              "      <th>Embarked</th>\n",
              "    </tr>\n",
              "  </thead>\n",
              "  <tbody>\n",
              "    <tr>\n",
              "      <th>0</th>\n",
              "      <td>1</td>\n",
              "      <td>0</td>\n",
              "      <td>3</td>\n",
              "      <td>Braund, Mr. Owen Harris</td>\n",
              "      <td>male</td>\n",
              "      <td>22.0</td>\n",
              "      <td>1</td>\n",
              "      <td>0</td>\n",
              "      <td>A/5 21171</td>\n",
              "      <td>7.2500</td>\n",
              "      <td>NaN</td>\n",
              "      <td>S</td>\n",
              "    </tr>\n",
              "    <tr>\n",
              "      <th>1</th>\n",
              "      <td>2</td>\n",
              "      <td>1</td>\n",
              "      <td>1</td>\n",
              "      <td>Cumings, Mrs. John Bradley (Florence Briggs Th...</td>\n",
              "      <td>female</td>\n",
              "      <td>38.0</td>\n",
              "      <td>1</td>\n",
              "      <td>0</td>\n",
              "      <td>PC 17599</td>\n",
              "      <td>71.2833</td>\n",
              "      <td>C85</td>\n",
              "      <td>C</td>\n",
              "    </tr>\n",
              "    <tr>\n",
              "      <th>2</th>\n",
              "      <td>3</td>\n",
              "      <td>1</td>\n",
              "      <td>3</td>\n",
              "      <td>Heikkinen, Miss. Laina</td>\n",
              "      <td>female</td>\n",
              "      <td>26.0</td>\n",
              "      <td>0</td>\n",
              "      <td>0</td>\n",
              "      <td>STON/O2. 3101282</td>\n",
              "      <td>7.9250</td>\n",
              "      <td>NaN</td>\n",
              "      <td>S</td>\n",
              "    </tr>\n",
              "    <tr>\n",
              "      <th>3</th>\n",
              "      <td>4</td>\n",
              "      <td>1</td>\n",
              "      <td>1</td>\n",
              "      <td>Futrelle, Mrs. Jacques Heath (Lily May Peel)</td>\n",
              "      <td>female</td>\n",
              "      <td>35.0</td>\n",
              "      <td>1</td>\n",
              "      <td>0</td>\n",
              "      <td>113803</td>\n",
              "      <td>53.1000</td>\n",
              "      <td>C123</td>\n",
              "      <td>S</td>\n",
              "    </tr>\n",
              "    <tr>\n",
              "      <th>4</th>\n",
              "      <td>5</td>\n",
              "      <td>0</td>\n",
              "      <td>3</td>\n",
              "      <td>Allen, Mr. William Henry</td>\n",
              "      <td>male</td>\n",
              "      <td>35.0</td>\n",
              "      <td>0</td>\n",
              "      <td>0</td>\n",
              "      <td>373450</td>\n",
              "      <td>8.0500</td>\n",
              "      <td>NaN</td>\n",
              "      <td>S</td>\n",
              "    </tr>\n",
              "  </tbody>\n",
              "</table>\n",
              "</div>"
            ],
            "text/plain": [
              "   PassengerId  Survived  Pclass  ...     Fare Cabin  Embarked\n",
              "0            1         0       3  ...   7.2500   NaN         S\n",
              "1            2         1       1  ...  71.2833   C85         C\n",
              "2            3         1       3  ...   7.9250   NaN         S\n",
              "3            4         1       1  ...  53.1000  C123         S\n",
              "4            5         0       3  ...   8.0500   NaN         S\n",
              "\n",
              "[5 rows x 12 columns]"
            ]
          },
          "metadata": {
            "tags": []
          },
          "execution_count": 4
        }
      ]
    },
    {
      "cell_type": "code",
      "metadata": {
        "id": "Qq4CE2lmR0RV"
      },
      "source": [
        "df_t=df.drop(['Name','Ticket'], axis=1)"
      ],
      "execution_count": null,
      "outputs": []
    },
    {
      "cell_type": "code",
      "metadata": {
        "colab": {
          "base_uri": "https://localhost:8080/",
          "height": 204
        },
        "id": "4gYCB1y4SRjJ",
        "outputId": "8a027ccb-c081-4539-8cb3-1bd34593637a"
      },
      "source": [
        "df_t.head()"
      ],
      "execution_count": null,
      "outputs": [
        {
          "output_type": "execute_result",
          "data": {
            "text/html": [
              "<div>\n",
              "<style scoped>\n",
              "    .dataframe tbody tr th:only-of-type {\n",
              "        vertical-align: middle;\n",
              "    }\n",
              "\n",
              "    .dataframe tbody tr th {\n",
              "        vertical-align: top;\n",
              "    }\n",
              "\n",
              "    .dataframe thead th {\n",
              "        text-align: right;\n",
              "    }\n",
              "</style>\n",
              "<table border=\"1\" class=\"dataframe\">\n",
              "  <thead>\n",
              "    <tr style=\"text-align: right;\">\n",
              "      <th></th>\n",
              "      <th>PassengerId</th>\n",
              "      <th>Survived</th>\n",
              "      <th>Pclass</th>\n",
              "      <th>Sex</th>\n",
              "      <th>Age</th>\n",
              "      <th>SibSp</th>\n",
              "      <th>Parch</th>\n",
              "      <th>Fare</th>\n",
              "      <th>Cabin</th>\n",
              "      <th>Embarked</th>\n",
              "    </tr>\n",
              "  </thead>\n",
              "  <tbody>\n",
              "    <tr>\n",
              "      <th>0</th>\n",
              "      <td>1</td>\n",
              "      <td>0</td>\n",
              "      <td>3</td>\n",
              "      <td>male</td>\n",
              "      <td>22.0</td>\n",
              "      <td>1</td>\n",
              "      <td>0</td>\n",
              "      <td>7.2500</td>\n",
              "      <td>NaN</td>\n",
              "      <td>S</td>\n",
              "    </tr>\n",
              "    <tr>\n",
              "      <th>1</th>\n",
              "      <td>2</td>\n",
              "      <td>1</td>\n",
              "      <td>1</td>\n",
              "      <td>female</td>\n",
              "      <td>38.0</td>\n",
              "      <td>1</td>\n",
              "      <td>0</td>\n",
              "      <td>71.2833</td>\n",
              "      <td>C85</td>\n",
              "      <td>C</td>\n",
              "    </tr>\n",
              "    <tr>\n",
              "      <th>2</th>\n",
              "      <td>3</td>\n",
              "      <td>1</td>\n",
              "      <td>3</td>\n",
              "      <td>female</td>\n",
              "      <td>26.0</td>\n",
              "      <td>0</td>\n",
              "      <td>0</td>\n",
              "      <td>7.9250</td>\n",
              "      <td>NaN</td>\n",
              "      <td>S</td>\n",
              "    </tr>\n",
              "    <tr>\n",
              "      <th>3</th>\n",
              "      <td>4</td>\n",
              "      <td>1</td>\n",
              "      <td>1</td>\n",
              "      <td>female</td>\n",
              "      <td>35.0</td>\n",
              "      <td>1</td>\n",
              "      <td>0</td>\n",
              "      <td>53.1000</td>\n",
              "      <td>C123</td>\n",
              "      <td>S</td>\n",
              "    </tr>\n",
              "    <tr>\n",
              "      <th>4</th>\n",
              "      <td>5</td>\n",
              "      <td>0</td>\n",
              "      <td>3</td>\n",
              "      <td>male</td>\n",
              "      <td>35.0</td>\n",
              "      <td>0</td>\n",
              "      <td>0</td>\n",
              "      <td>8.0500</td>\n",
              "      <td>NaN</td>\n",
              "      <td>S</td>\n",
              "    </tr>\n",
              "  </tbody>\n",
              "</table>\n",
              "</div>"
            ],
            "text/plain": [
              "   PassengerId  Survived  Pclass     Sex  ...  Parch     Fare  Cabin  Embarked\n",
              "0            1         0       3    male  ...      0   7.2500    NaN         S\n",
              "1            2         1       1  female  ...      0  71.2833    C85         C\n",
              "2            3         1       3  female  ...      0   7.9250    NaN         S\n",
              "3            4         1       1  female  ...      0  53.1000   C123         S\n",
              "4            5         0       3    male  ...      0   8.0500    NaN         S\n",
              "\n",
              "[5 rows x 10 columns]"
            ]
          },
          "metadata": {
            "tags": []
          },
          "execution_count": 6
        }
      ]
    },
    {
      "cell_type": "code",
      "metadata": {
        "id": "yQv4K7g68FT9",
        "colab": {
          "base_uri": "https://localhost:8080/",
          "height": 886
        },
        "outputId": "f890c570-9e39-4a2e-d74b-563f48d32fc1"
      },
      "source": [
        "df_t.hist(figsize=(12,12))"
      ],
      "execution_count": null,
      "outputs": [
        {
          "output_type": "execute_result",
          "data": {
            "text/plain": [
              "array([[<matplotlib.axes._subplots.AxesSubplot object at 0x7f8bf328f750>,\n",
              "        <matplotlib.axes._subplots.AxesSubplot object at 0x7f8bf3266d50>,\n",
              "        <matplotlib.axes._subplots.AxesSubplot object at 0x7f8bf322a410>],\n",
              "       [<matplotlib.axes._subplots.AxesSubplot object at 0x7f8bf31e1a90>,\n",
              "        <matplotlib.axes._subplots.AxesSubplot object at 0x7f8bf31a4110>,\n",
              "        <matplotlib.axes._subplots.AxesSubplot object at 0x7f8bf3157790>],\n",
              "       [<matplotlib.axes._subplots.AxesSubplot object at 0x7f8bf310de90>,\n",
              "        <matplotlib.axes._subplots.AxesSubplot object at 0x7f8bf30d0490>,\n",
              "        <matplotlib.axes._subplots.AxesSubplot object at 0x7f8bf30d04d0>]],\n",
              "      dtype=object)"
            ]
          },
          "metadata": {
            "tags": []
          },
          "execution_count": 7
        },
        {
          "output_type": "display_data",
          "data": {
            "image/png": "[encoded data removed]",
            "text/plain": [
              "<Figure size 864x864 with 9 Axes>"
            ]
          },
          "metadata": {
            "tags": [],
            "needs_background": "light"
          }
        }
      ]
    },
    {
      "cell_type": "code",
      "metadata": {
        "colab": {
          "base_uri": "https://localhost:8080/",
          "height": 350
        },
        "id": "AM0x262vObDi",
        "outputId": "ba06163e-3faa-4d99-b154-61fe63eb83a6"
      },
      "source": [
        "sns.countplot(df_t['Survived'])"
      ],
      "execution_count": null,
      "outputs": [
        {
          "output_type": "stream",
          "text": [
            "/usr/local/lib/python3.7/dist-packages/seaborn/_decorators.py:43: FutureWarning: Pass the following variable as a keyword arg: x. From version 0.12, the only valid positional argument will be `data`, and passing other arguments without an explicit keyword will result in an error or misinterpretation.\n",
            "  FutureWarning\n"
          ],
          "name": "stderr"
        },
        {
          "output_type": "execute_result",
          "data": {
            "text/plain": [
              "<matplotlib.axes._subplots.AxesSubplot at 0x7f8bf29a0f10>"
            ]
          },
          "metadata": {
            "tags": []
          },
          "execution_count": 8
        },
        {
          "output_type": "display_data",
          "data": {
            "image/png": "[encoded data removed]",
            "text/plain": [
              "<Figure size 432x288 with 1 Axes>"
            ]
          },
          "metadata": {
            "tags": [],
            "needs_background": "light"
          }
        }
      ]
    },
    {
      "cell_type": "code",
      "metadata": {
        "colab": {
          "base_uri": "https://localhost:8080/",
          "height": 296
        },
        "id": "rylSrcALOs-G",
        "outputId": "95c3a067-5b36-4d82-fe50-fbf1fffaf00e"
      },
      "source": [
        "sns.barplot(x='Sex',y='Survived',data=df_t)"
      ],
      "execution_count": null,
      "outputs": [
        {
          "output_type": "execute_result",
          "data": {
            "text/plain": [
              "<matplotlib.axes._subplots.AxesSubplot at 0x7f8bf2f41f10>"
            ]
          },
          "metadata": {
            "tags": []
          },
          "execution_count": 9
        },
        {
          "output_type": "display_data",
          "data": {
            "image/png": "[encoded data removed]",
            "text/plain": [
              "<Figure size 432x288 with 1 Axes>"
            ]
          },
          "metadata": {
            "tags": [],
            "needs_background": "light"
          }
        }
      ]
    },
    {
      "cell_type": "code",
      "metadata": {
        "colab": {
          "base_uri": "https://localhost:8080/"
        },
        "id": "YPHhWWdKOtMG",
        "outputId": "85067d2e-3f68-45ef-f18e-4f1f371d260a"
      },
      "source": [
        "print(\"Percentage of passengers of Class1\",\n",
        "     df_t['Survived'][df_t['Pclass']==1].value_counts(normalize=True))\n",
        "\n",
        "print(\"------------------------------------\")\n",
        "\n",
        "print(\"Percentage of passengers of Class2\",\n",
        "     df_t['Survived'][df_t['Pclass']==2].value_counts(normalize=True))\n",
        "\n",
        "print(\"------------------------------------\")\n",
        "\n",
        "print(\"Percentage of passengers of Class3\",\n",
        "     df_t['Survived'][df_t['Pclass']==3].value_counts(normalize=True))"
      ],
      "execution_count": null,
      "outputs": [
        {
          "output_type": "stream",
          "text": [
            "Percentage of passengers of Class1 1    0.62963\n",
            "0    0.37037\n",
            "Name: Survived, dtype: float64\n",
            "------------------------------------\n",
            "Percentage of passengers of Class2 0    0.527174\n",
            "1    0.472826\n",
            "Name: Survived, dtype: float64\n",
            "------------------------------------\n",
            "Percentage of passengers of Class3 0    0.757637\n",
            "1    0.242363\n",
            "Name: Survived, dtype: float64\n"
          ],
          "name": "stdout"
        }
      ]
    },
    {
      "cell_type": "code",
      "metadata": {
        "colab": {
          "base_uri": "https://localhost:8080/",
          "height": 265
        },
        "id": "ZAiuY4gQOtTk",
        "outputId": "6b8c8910-e9c8-4862-e936-47949cb8a731"
      },
      "source": [
        "df.Pclass.value_counts().plot.pie().\\\n",
        "            legend(labels=['Class3','Class1','Class2'],loc='center right', bbox_to_anchor=(2.25,0.5))"
      ],
      "execution_count": null,
      "outputs": [
        {
          "output_type": "execute_result",
          "data": {
            "text/plain": [
              "<matplotlib.legend.Legend at 0x7f8bf297f9d0>"
            ]
          },
          "metadata": {
            "tags": []
          },
          "execution_count": 11
        },
        {
          "output_type": "display_data",
          "data": {
            "image/png": "[encoded data removed]",
            "text/plain": [
              "<Figure size 432x288 with 1 Axes>"
            ]
          },
          "metadata": {
            "tags": []
          }
        }
      ]
    },
    {
      "cell_type": "code",
      "metadata": {
        "colab": {
          "base_uri": "https://localhost:8080/",
          "height": 296
        },
        "id": "He8Esjr1OtZg",
        "outputId": "68f96ae2-1f25-4229-d4e8-6e35882249ac"
      },
      "source": [
        "sns.barplot(x='SibSp',y='Survived',data=df_t)"
      ],
      "execution_count": null,
      "outputs": [
        {
          "output_type": "execute_result",
          "data": {
            "text/plain": [
              "<matplotlib.axes._subplots.AxesSubplot at 0x7f8bf161c210>"
            ]
          },
          "metadata": {
            "tags": []
          },
          "execution_count": 12
        },
        {
          "output_type": "display_data",
          "data": {
            "image/png": "[encoded data removed]",
            "text/plain": [
              "<Figure size 432x288 with 1 Axes>"
            ]
          },
          "metadata": {
            "tags": [],
            "needs_background": "light"
          }
        }
      ]
    },
    {
      "cell_type": "code",
      "metadata": {
        "colab": {
          "base_uri": "https://localhost:8080/",
          "height": 296
        },
        "id": "FviQK3TZOthE",
        "outputId": "a22391f9-695e-4bef-9130-2323065cae1c"
      },
      "source": [
        "sns.barplot(x='Parch',y='Survived',data=df_t)"
      ],
      "execution_count": null,
      "outputs": [
        {
          "output_type": "execute_result",
          "data": {
            "text/plain": [
              "<matplotlib.axes._subplots.AxesSubplot at 0x7f8bf16050d0>"
            ]
          },
          "metadata": {
            "tags": []
          },
          "execution_count": 13
        },
        {
          "output_type": "display_data",
          "data": {
            "image/png": "[encoded data removed]",
            "text/plain": [
              "<Figure size 432x288 with 1 Axes>"
            ]
          },
          "metadata": {
            "tags": [],
            "needs_background": "light"
          }
        }
      ]
    },
    {
      "cell_type": "code",
      "metadata": {
        "colab": {
          "base_uri": "https://localhost:8080/",
          "height": 312
        },
        "id": "RKXMe-bPPGqS",
        "outputId": "805b6488-e6d4-4c86-eb86-7dd9ea0c731c"
      },
      "source": [
        "p=sns.countplot(x='Embarked', hue='Survived', data=df_t)\n",
        "p.set_xticklabels(['Southampton','Cherboug','Queenstown'])\n",
        "p.set_title('Survival based on Embarked')\n",
        "p.legend(labels=['Deceased','Survived'])"
      ],
      "execution_count": null,
      "outputs": [
        {
          "output_type": "execute_result",
          "data": {
            "text/plain": [
              "<matplotlib.legend.Legend at 0x7f8bf14b7dd0>"
            ]
          },
          "metadata": {
            "tags": []
          },
          "execution_count": 14
        },
        {
          "output_type": "display_data",
          "data": {
            "image/png": "[encoded data removed]",
            "text/plain": [
              "<Figure size 432x288 with 1 Axes>"
            ]
          },
          "metadata": {
            "tags": [],
            "needs_background": "light"
          }
        }
      ]
    },
    {
      "cell_type": "code",
      "metadata": {
        "colab": {
          "base_uri": "https://localhost:8080/"
        },
        "id": "UmG2hSKvPGyi",
        "outputId": "3f9c4979-91ab-4219-8907-7d10a4261133"
      },
      "source": [
        "df_t.dtypes"
      ],
      "execution_count": null,
      "outputs": [
        {
          "output_type": "execute_result",
          "data": {
            "text/plain": [
              "PassengerId      int64\n",
              "Survived         int64\n",
              "Pclass           int64\n",
              "Sex             object\n",
              "Age            float64\n",
              "SibSp            int64\n",
              "Parch            int64\n",
              "Fare           float64\n",
              "Cabin           object\n",
              "Embarked        object\n",
              "dtype: object"
            ]
          },
          "metadata": {
            "tags": []
          },
          "execution_count": 15
        }
      ]
    },
    {
      "cell_type": "code",
      "metadata": {
        "colab": {
          "base_uri": "https://localhost:8080/",
          "height": 297
        },
        "id": "Q5v7a1yzOtps",
        "outputId": "5c2c15e5-2dd4-4615-c49b-f154c6b44ea9"
      },
      "source": [
        "df_t.describe()"
      ],
      "execution_count": null,
      "outputs": [
        {
          "output_type": "execute_result",
          "data": {
            "text/html": [
              "<div>\n",
              "<style scoped>\n",
              "    .dataframe tbody tr th:only-of-type {\n",
              "        vertical-align: middle;\n",
              "    }\n",
              "\n",
              "    .dataframe tbody tr th {\n",
              "        vertical-align: top;\n",
              "    }\n",
              "\n",
              "    .dataframe thead th {\n",
              "        text-align: right;\n",
              "    }\n",
              "</style>\n",
              "<table border=\"1\" class=\"dataframe\">\n",
              "  <thead>\n",
              "    <tr style=\"text-align: right;\">\n",
              "      <th></th>\n",
              "      <th>PassengerId</th>\n",
              "      <th>Survived</th>\n",
              "      <th>Pclass</th>\n",
              "      <th>Age</th>\n",
              "      <th>SibSp</th>\n",
              "      <th>Parch</th>\n",
              "      <th>Fare</th>\n",
              "    </tr>\n",
              "  </thead>\n",
              "  <tbody>\n",
              "    <tr>\n",
              "      <th>count</th>\n",
              "      <td>891.000000</td>\n",
              "      <td>891.000000</td>\n",
              "      <td>891.000000</td>\n",
              "      <td>714.000000</td>\n",
              "      <td>891.000000</td>\n",
              "      <td>891.000000</td>\n",
              "      <td>891.000000</td>\n",
              "    </tr>\n",
              "    <tr>\n",
              "      <th>mean</th>\n",
              "      <td>446.000000</td>\n",
              "      <td>0.383838</td>\n",
              "      <td>2.308642</td>\n",
              "      <td>29.699118</td>\n",
              "      <td>0.523008</td>\n",
              "      <td>0.381594</td>\n",
              "      <td>32.204208</td>\n",
              "    </tr>\n",
              "    <tr>\n",
              "      <th>std</th>\n",
              "      <td>257.353842</td>\n",
              "      <td>0.486592</td>\n",
              "      <td>0.836071</td>\n",
              "      <td>14.526497</td>\n",
              "      <td>1.102743</td>\n",
              "      <td>0.806057</td>\n",
              "      <td>49.693429</td>\n",
              "    </tr>\n",
              "    <tr>\n",
              "      <th>min</th>\n",
              "      <td>1.000000</td>\n",
              "      <td>0.000000</td>\n",
              "      <td>1.000000</td>\n",
              "      <td>0.420000</td>\n",
              "      <td>0.000000</td>\n",
              "      <td>0.000000</td>\n",
              "      <td>0.000000</td>\n",
              "    </tr>\n",
              "    <tr>\n",
              "      <th>25%</th>\n",
              "      <td>223.500000</td>\n",
              "      <td>0.000000</td>\n",
              "      <td>2.000000</td>\n",
              "      <td>20.125000</td>\n",
              "      <td>0.000000</td>\n",
              "      <td>0.000000</td>\n",
              "      <td>7.910400</td>\n",
              "    </tr>\n",
              "    <tr>\n",
              "      <th>50%</th>\n",
              "      <td>446.000000</td>\n",
              "      <td>0.000000</td>\n",
              "      <td>3.000000</td>\n",
              "      <td>28.000000</td>\n",
              "      <td>0.000000</td>\n",
              "      <td>0.000000</td>\n",
              "      <td>14.454200</td>\n",
              "    </tr>\n",
              "    <tr>\n",
              "      <th>75%</th>\n",
              "      <td>668.500000</td>\n",
              "      <td>1.000000</td>\n",
              "      <td>3.000000</td>\n",
              "      <td>38.000000</td>\n",
              "      <td>1.000000</td>\n",
              "      <td>0.000000</td>\n",
              "      <td>31.000000</td>\n",
              "    </tr>\n",
              "    <tr>\n",
              "      <th>max</th>\n",
              "      <td>891.000000</td>\n",
              "      <td>1.000000</td>\n",
              "      <td>3.000000</td>\n",
              "      <td>80.000000</td>\n",
              "      <td>8.000000</td>\n",
              "      <td>6.000000</td>\n",
              "      <td>512.329200</td>\n",
              "    </tr>\n",
              "  </tbody>\n",
              "</table>\n",
              "</div>"
            ],
            "text/plain": [
              "       PassengerId    Survived      Pclass  ...       SibSp       Parch        Fare\n",
              "count   891.000000  891.000000  891.000000  ...  891.000000  891.000000  891.000000\n",
              "mean    446.000000    0.383838    2.308642  ...    0.523008    0.381594   32.204208\n",
              "std     257.353842    0.486592    0.836071  ...    1.102743    0.806057   49.693429\n",
              "min       1.000000    0.000000    1.000000  ...    0.000000    0.000000    0.000000\n",
              "25%     223.500000    0.000000    2.000000  ...    0.000000    0.000000    7.910400\n",
              "50%     446.000000    0.000000    3.000000  ...    0.000000    0.000000   14.454200\n",
              "75%     668.500000    1.000000    3.000000  ...    1.000000    0.000000   31.000000\n",
              "max     891.000000    1.000000    3.000000  ...    8.000000    6.000000  512.329200\n",
              "\n",
              "[8 rows x 7 columns]"
            ]
          },
          "metadata": {
            "tags": []
          },
          "execution_count": 16
        }
      ]
    },
    {
      "cell_type": "code",
      "metadata": {
        "colab": {
          "base_uri": "https://localhost:8080/"
        },
        "id": "Fr2R01N_Otxh",
        "outputId": "14533bdd-05a4-47fb-957c-329e6ea3238f"
      },
      "source": [
        "df_t.isnull().sum()"
      ],
      "execution_count": null,
      "outputs": [
        {
          "output_type": "execute_result",
          "data": {
            "text/plain": [
              "PassengerId      0\n",
              "Survived         0\n",
              "Pclass           0\n",
              "Sex              0\n",
              "Age            177\n",
              "SibSp            0\n",
              "Parch            0\n",
              "Fare             0\n",
              "Cabin          687\n",
              "Embarked         2\n",
              "dtype: int64"
            ]
          },
          "metadata": {
            "tags": []
          },
          "execution_count": 17
        }
      ]
    },
    {
      "cell_type": "code",
      "metadata": {
        "id": "ElsgWmaBOt5F"
      },
      "source": [
        "df_t=df_t.drop(['Cabin'], axis=1)"
      ],
      "execution_count": null,
      "outputs": []
    },
    {
      "cell_type": "code",
      "metadata": {
        "id": "pUcc9oIQObQp"
      },
      "source": [
        ""
      ],
      "execution_count": null,
      "outputs": []
    },
    {
      "cell_type": "code",
      "metadata": {
        "colab": {
          "base_uri": "https://localhost:8080/",
          "height": 204
        },
        "id": "VY-U1-K-SS2J",
        "outputId": "9ef8649b-c1a8-47d2-9974-ff800fff2cb4"
      },
      "source": [
        "from sklearn.preprocessing import LabelEncoder\n",
        "le = LabelEncoder()\n",
        "df_t['Sex']=le.fit_transform(df_t['Sex'])\n",
        "df_t.head()"
      ],
      "execution_count": null,
      "outputs": [
        {
          "output_type": "execute_result",
          "data": {
            "text/html": [
              "<div>\n",
              "<style scoped>\n",
              "    .dataframe tbody tr th:only-of-type {\n",
              "        vertical-align: middle;\n",
              "    }\n",
              "\n",
              "    .dataframe tbody tr th {\n",
              "        vertical-align: top;\n",
              "    }\n",
              "\n",
              "    .dataframe thead th {\n",
              "        text-align: right;\n",
              "    }\n",
              "</style>\n",
              "<table border=\"1\" class=\"dataframe\">\n",
              "  <thead>\n",
              "    <tr style=\"text-align: right;\">\n",
              "      <th></th>\n",
              "      <th>PassengerId</th>\n",
              "      <th>Survived</th>\n",
              "      <th>Pclass</th>\n",
              "      <th>Sex</th>\n",
              "      <th>Age</th>\n",
              "      <th>SibSp</th>\n",
              "      <th>Parch</th>\n",
              "      <th>Fare</th>\n",
              "      <th>Embarked</th>\n",
              "    </tr>\n",
              "  </thead>\n",
              "  <tbody>\n",
              "    <tr>\n",
              "      <th>0</th>\n",
              "      <td>1</td>\n",
              "      <td>0</td>\n",
              "      <td>3</td>\n",
              "      <td>1</td>\n",
              "      <td>22.0</td>\n",
              "      <td>1</td>\n",
              "      <td>0</td>\n",
              "      <td>7.2500</td>\n",
              "      <td>S</td>\n",
              "    </tr>\n",
              "    <tr>\n",
              "      <th>1</th>\n",
              "      <td>2</td>\n",
              "      <td>1</td>\n",
              "      <td>1</td>\n",
              "      <td>0</td>\n",
              "      <td>38.0</td>\n",
              "      <td>1</td>\n",
              "      <td>0</td>\n",
              "      <td>71.2833</td>\n",
              "      <td>C</td>\n",
              "    </tr>\n",
              "    <tr>\n",
              "      <th>2</th>\n",
              "      <td>3</td>\n",
              "      <td>1</td>\n",
              "      <td>3</td>\n",
              "      <td>0</td>\n",
              "      <td>26.0</td>\n",
              "      <td>0</td>\n",
              "      <td>0</td>\n",
              "      <td>7.9250</td>\n",
              "      <td>S</td>\n",
              "    </tr>\n",
              "    <tr>\n",
              "      <th>3</th>\n",
              "      <td>4</td>\n",
              "      <td>1</td>\n",
              "      <td>1</td>\n",
              "      <td>0</td>\n",
              "      <td>35.0</td>\n",
              "      <td>1</td>\n",
              "      <td>0</td>\n",
              "      <td>53.1000</td>\n",
              "      <td>S</td>\n",
              "    </tr>\n",
              "    <tr>\n",
              "      <th>4</th>\n",
              "      <td>5</td>\n",
              "      <td>0</td>\n",
              "      <td>3</td>\n",
              "      <td>1</td>\n",
              "      <td>35.0</td>\n",
              "      <td>0</td>\n",
              "      <td>0</td>\n",
              "      <td>8.0500</td>\n",
              "      <td>S</td>\n",
              "    </tr>\n",
              "  </tbody>\n",
              "</table>\n",
              "</div>"
            ],
            "text/plain": [
              "   PassengerId  Survived  Pclass  Sex   Age  SibSp  Parch     Fare Embarked\n",
              "0            1         0       3    1  22.0      1      0   7.2500        S\n",
              "1            2         1       1    0  38.0      1      0  71.2833        C\n",
              "2            3         1       3    0  26.0      0      0   7.9250        S\n",
              "3            4         1       1    0  35.0      1      0  53.1000        S\n",
              "4            5         0       3    1  35.0      0      0   8.0500        S"
            ]
          },
          "metadata": {
            "tags": []
          },
          "execution_count": 19
        }
      ]
    },
    {
      "cell_type": "code",
      "metadata": {
        "colab": {
          "base_uri": "https://localhost:8080/"
        },
        "id": "4_mg0sqO_uyT",
        "outputId": "bd5801d8-f323-406b-9a52-14f3d46150ca"
      },
      "source": [
        "df_t.info()"
      ],
      "execution_count": null,
      "outputs": [
        {
          "output_type": "stream",
          "text": [
            "<class 'pandas.core.frame.DataFrame'>\n",
            "RangeIndex: 891 entries, 0 to 890\n",
            "Data columns (total 9 columns):\n",
            " #   Column       Non-Null Count  Dtype  \n",
            "---  ------       --------------  -----  \n",
            " 0   PassengerId  891 non-null    int64  \n",
            " 1   Survived     891 non-null    int64  \n",
            " 2   Pclass       891 non-null    int64  \n",
            " 3   Sex          891 non-null    int64  \n",
            " 4   Age          714 non-null    float64\n",
            " 5   SibSp        891 non-null    int64  \n",
            " 6   Parch        891 non-null    int64  \n",
            " 7   Fare         891 non-null    float64\n",
            " 8   Embarked     889 non-null    object \n",
            "dtypes: float64(2), int64(6), object(1)\n",
            "memory usage: 62.8+ KB\n"
          ],
          "name": "stdout"
        }
      ]
    },
    {
      "cell_type": "code",
      "metadata": {
        "id": "Sy8U18yySgcR"
      },
      "source": [
        "df_t.fillna(df_t.median(), inplace=True)"
      ],
      "execution_count": null,
      "outputs": []
    },
    {
      "cell_type": "code",
      "metadata": {
        "id": "uumOdsu383MD"
      },
      "source": [
        ""
      ],
      "execution_count": null,
      "outputs": []
    },
    {
      "cell_type": "code",
      "metadata": {
        "colab": {
          "base_uri": "https://localhost:8080/"
        },
        "id": "c3NVPPdn83nq",
        "outputId": "1ad8425e-391f-486f-80ff-25dabe9aed42"
      },
      "source": [
        "df_t.isnull().sum()"
      ],
      "execution_count": null,
      "outputs": [
        {
          "output_type": "execute_result",
          "data": {
            "text/plain": [
              "PassengerId    0\n",
              "Survived       0\n",
              "Pclass         0\n",
              "Sex            0\n",
              "Age            0\n",
              "SibSp          0\n",
              "Parch          0\n",
              "Fare           0\n",
              "Embarked       2\n",
              "dtype: int64"
            ]
          },
          "metadata": {
            "tags": []
          },
          "execution_count": 22
        }
      ]
    },
    {
      "cell_type": "code",
      "metadata": {
        "id": "G3P-pUB4Uk2o"
      },
      "source": [
        ""
      ],
      "execution_count": null,
      "outputs": []
    },
    {
      "cell_type": "code",
      "metadata": {
        "id": "Inb3E45E9SD6"
      },
      "source": [
        "df_t.dropna(inplace=True)"
      ],
      "execution_count": null,
      "outputs": []
    },
    {
      "cell_type": "code",
      "metadata": {
        "colab": {
          "base_uri": "https://localhost:8080/",
          "height": 204
        },
        "id": "Ixj78hPQUoyY",
        "outputId": "5ca393a8-1d5d-46b1-ca8d-b46584aa5712"
      },
      "source": [
        "df_t['Embarked']=le.fit_transform(df_t['Embarked'])\n",
        "df_t.head()"
      ],
      "execution_count": null,
      "outputs": [
        {
          "output_type": "execute_result",
          "data": {
            "text/html": [
              "<div>\n",
              "<style scoped>\n",
              "    .dataframe tbody tr th:only-of-type {\n",
              "        vertical-align: middle;\n",
              "    }\n",
              "\n",
              "    .dataframe tbody tr th {\n",
              "        vertical-align: top;\n",
              "    }\n",
              "\n",
              "    .dataframe thead th {\n",
              "        text-align: right;\n",
              "    }\n",
              "</style>\n",
              "<table border=\"1\" class=\"dataframe\">\n",
              "  <thead>\n",
              "    <tr style=\"text-align: right;\">\n",
              "      <th></th>\n",
              "      <th>PassengerId</th>\n",
              "      <th>Survived</th>\n",
              "      <th>Pclass</th>\n",
              "      <th>Sex</th>\n",
              "      <th>Age</th>\n",
              "      <th>SibSp</th>\n",
              "      <th>Parch</th>\n",
              "      <th>Fare</th>\n",
              "      <th>Embarked</th>\n",
              "    </tr>\n",
              "  </thead>\n",
              "  <tbody>\n",
              "    <tr>\n",
              "      <th>0</th>\n",
              "      <td>1</td>\n",
              "      <td>0</td>\n",
              "      <td>3</td>\n",
              "      <td>1</td>\n",
              "      <td>22.0</td>\n",
              "      <td>1</td>\n",
              "      <td>0</td>\n",
              "      <td>7.2500</td>\n",
              "      <td>2</td>\n",
              "    </tr>\n",
              "    <tr>\n",
              "      <th>1</th>\n",
              "      <td>2</td>\n",
              "      <td>1</td>\n",
              "      <td>1</td>\n",
              "      <td>0</td>\n",
              "      <td>38.0</td>\n",
              "      <td>1</td>\n",
              "      <td>0</td>\n",
              "      <td>71.2833</td>\n",
              "      <td>0</td>\n",
              "    </tr>\n",
              "    <tr>\n",
              "      <th>2</th>\n",
              "      <td>3</td>\n",
              "      <td>1</td>\n",
              "      <td>3</td>\n",
              "      <td>0</td>\n",
              "      <td>26.0</td>\n",
              "      <td>0</td>\n",
              "      <td>0</td>\n",
              "      <td>7.9250</td>\n",
              "      <td>2</td>\n",
              "    </tr>\n",
              "    <tr>\n",
              "      <th>3</th>\n",
              "      <td>4</td>\n",
              "      <td>1</td>\n",
              "      <td>1</td>\n",
              "      <td>0</td>\n",
              "      <td>35.0</td>\n",
              "      <td>1</td>\n",
              "      <td>0</td>\n",
              "      <td>53.1000</td>\n",
              "      <td>2</td>\n",
              "    </tr>\n",
              "    <tr>\n",
              "      <th>4</th>\n",
              "      <td>5</td>\n",
              "      <td>0</td>\n",
              "      <td>3</td>\n",
              "      <td>1</td>\n",
              "      <td>35.0</td>\n",
              "      <td>0</td>\n",
              "      <td>0</td>\n",
              "      <td>8.0500</td>\n",
              "      <td>2</td>\n",
              "    </tr>\n",
              "  </tbody>\n",
              "</table>\n",
              "</div>"
            ],
            "text/plain": [
              "   PassengerId  Survived  Pclass  Sex   Age  SibSp  Parch     Fare  Embarked\n",
              "0            1         0       3    1  22.0      1      0   7.2500         2\n",
              "1            2         1       1    0  38.0      1      0  71.2833         0\n",
              "2            3         1       3    0  26.0      0      0   7.9250         2\n",
              "3            4         1       1    0  35.0      1      0  53.1000         2\n",
              "4            5         0       3    1  35.0      0      0   8.0500         2"
            ]
          },
          "metadata": {
            "tags": []
          },
          "execution_count": 24
        }
      ]
    },
    {
      "cell_type": "code",
      "metadata": {
        "colab": {
          "base_uri": "https://localhost:8080/",
          "height": 204
        },
        "id": "e0fH26XLUs84",
        "outputId": "ee1761b7-7683-405d-815e-8e8c9ed6e926"
      },
      "source": [
        "df_t.Age = df_t.Age.astype(int)\n",
        "df_t.head()"
      ],
      "execution_count": null,
      "outputs": [
        {
          "output_type": "execute_result",
          "data": {
            "text/html": [
              "<div>\n",
              "<style scoped>\n",
              "    .dataframe tbody tr th:only-of-type {\n",
              "        vertical-align: middle;\n",
              "    }\n",
              "\n",
              "    .dataframe tbody tr th {\n",
              "        vertical-align: top;\n",
              "    }\n",
              "\n",
              "    .dataframe thead th {\n",
              "        text-align: right;\n",
              "    }\n",
              "</style>\n",
              "<table border=\"1\" class=\"dataframe\">\n",
              "  <thead>\n",
              "    <tr style=\"text-align: right;\">\n",
              "      <th></th>\n",
              "      <th>PassengerId</th>\n",
              "      <th>Survived</th>\n",
              "      <th>Pclass</th>\n",
              "      <th>Sex</th>\n",
              "      <th>Age</th>\n",
              "      <th>SibSp</th>\n",
              "      <th>Parch</th>\n",
              "      <th>Fare</th>\n",
              "      <th>Embarked</th>\n",
              "    </tr>\n",
              "  </thead>\n",
              "  <tbody>\n",
              "    <tr>\n",
              "      <th>0</th>\n",
              "      <td>1</td>\n",
              "      <td>0</td>\n",
              "      <td>3</td>\n",
              "      <td>1</td>\n",
              "      <td>22</td>\n",
              "      <td>1</td>\n",
              "      <td>0</td>\n",
              "      <td>7.2500</td>\n",
              "      <td>2</td>\n",
              "    </tr>\n",
              "    <tr>\n",
              "      <th>1</th>\n",
              "      <td>2</td>\n",
              "      <td>1</td>\n",
              "      <td>1</td>\n",
              "      <td>0</td>\n",
              "      <td>38</td>\n",
              "      <td>1</td>\n",
              "      <td>0</td>\n",
              "      <td>71.2833</td>\n",
              "      <td>0</td>\n",
              "    </tr>\n",
              "    <tr>\n",
              "      <th>2</th>\n",
              "      <td>3</td>\n",
              "      <td>1</td>\n",
              "      <td>3</td>\n",
              "      <td>0</td>\n",
              "      <td>26</td>\n",
              "      <td>0</td>\n",
              "      <td>0</td>\n",
              "      <td>7.9250</td>\n",
              "      <td>2</td>\n",
              "    </tr>\n",
              "    <tr>\n",
              "      <th>3</th>\n",
              "      <td>4</td>\n",
              "      <td>1</td>\n",
              "      <td>1</td>\n",
              "      <td>0</td>\n",
              "      <td>35</td>\n",
              "      <td>1</td>\n",
              "      <td>0</td>\n",
              "      <td>53.1000</td>\n",
              "      <td>2</td>\n",
              "    </tr>\n",
              "    <tr>\n",
              "      <th>4</th>\n",
              "      <td>5</td>\n",
              "      <td>0</td>\n",
              "      <td>3</td>\n",
              "      <td>1</td>\n",
              "      <td>35</td>\n",
              "      <td>0</td>\n",
              "      <td>0</td>\n",
              "      <td>8.0500</td>\n",
              "      <td>2</td>\n",
              "    </tr>\n",
              "  </tbody>\n",
              "</table>\n",
              "</div>"
            ],
            "text/plain": [
              "   PassengerId  Survived  Pclass  Sex  Age  SibSp  Parch     Fare  Embarked\n",
              "0            1         0       3    1   22      1      0   7.2500         2\n",
              "1            2         1       1    0   38      1      0  71.2833         0\n",
              "2            3         1       3    0   26      0      0   7.9250         2\n",
              "3            4         1       1    0   35      1      0  53.1000         2\n",
              "4            5         0       3    1   35      0      0   8.0500         2"
            ]
          },
          "metadata": {
            "tags": []
          },
          "execution_count": 25
        }
      ]
    },
    {
      "cell_type": "code",
      "metadata": {
        "id": "u5QWD-JPVIuv"
      },
      "source": [
        "from sklearn.model_selection import train_test_split\n",
        "from sklearn import preprocessing\n",
        "X = df_t.drop(['Survived','PassengerId','Fare'],axis=1)\n",
        "y = df_t['Survived']\n",
        "\n",
        "X_train,X_test,y_train,y_test = train_test_split(X,y,test_size=0.3,random_state=3296)"
      ],
      "execution_count": null,
      "outputs": []
    },
    {
      "cell_type": "code",
      "metadata": {
        "colab": {
          "base_uri": "https://localhost:8080/"
        },
        "id": "ZTDGk9Md9WQB",
        "outputId": "2a834797-b458-42b8-fcd9-ba8b4d945447"
      },
      "source": [
        "from sklearn.tree import DecisionTreeClassifier\n",
        "clf = DecisionTreeClassifier(random_state=1,max_depth=7,min_samples_split=2).fit(X_train,y_train)\n",
        "clf.score(X_test,y_test)"
      ],
      "execution_count": null,
      "outputs": [
        {
          "output_type": "execute_result",
          "data": {
            "text/plain": [
              "0.8576779026217228"
            ]
          },
          "metadata": {
            "tags": []
          },
          "execution_count": 28
        }
      ]
    },
    {
      "cell_type": "code",
      "metadata": {
        "colab": {
          "base_uri": "https://localhost:8080/"
        },
        "id": "xvNCiLasVxKn",
        "outputId": "6806cbc6-918c-4af7-8c49-ab304f8f9377"
      },
      "source": [
        "from sklearn.neighbors import KNeighborsClassifier\n",
        "neigh = KNeighborsClassifier(n_neighbors=3).fit(X_train,y_train)\n",
        "neigh.score(X_test,y_test)"
      ],
      "execution_count": null,
      "outputs": [
        {
          "output_type": "execute_result",
          "data": {
            "text/plain": [
              "0.7565543071161048"
            ]
          },
          "metadata": {
            "tags": []
          },
          "execution_count": 23
        }
      ]
    },
    {
      "cell_type": "code",
      "metadata": {
        "colab": {
          "base_uri": "https://localhost:8080/"
        },
        "id": "IbaMXRevWEa3",
        "outputId": "1e08591f-1177-4d48-e440-2bb081c78c81"
      },
      "source": [
        "from sklearn.linear_model import LogisticRegression\n",
        "lr=LogisticRegression().fit(X_train,y_train)\n",
        "lr.score(X_test,y_test)"
      ],
      "execution_count": null,
      "outputs": [
        {
          "output_type": "execute_result",
          "data": {
            "text/plain": [
              "0.8202247191011236"
            ]
          },
          "metadata": {
            "tags": []
          },
          "execution_count": 24
        }
      ]
    },
    {
      "cell_type": "code",
      "metadata": {
        "id": "YjdUqbsNWH9f"
      },
      "source": [
        ""
      ],
      "execution_count": null,
      "outputs": []
    },
    {
      "cell_type": "code",
      "metadata": {
        "colab": {
          "base_uri": "https://localhost:8080/"
        },
        "id": "2eRjNpuU9OFy",
        "outputId": "3273db9a-da2d-4e75-bd3d-130863bd050e"
      },
      "source": [
        "from sklearn.svm import SVC\n",
        "from sklearn.pipeline import make_pipeline\n",
        "clf = make_pipeline(SVC(gamma='auto')).fit(X_train,y_train)\n",
        "clf.score(X_test,y_test)"
      ],
      "execution_count": null,
      "outputs": [
        {
          "output_type": "execute_result",
          "data": {
            "text/plain": [
              "0.8239700374531835"
            ]
          },
          "metadata": {
            "tags": []
          },
          "execution_count": 26
        }
      ]
    },
    {
      "cell_type": "code",
      "metadata": {
        "colab": {
          "base_uri": "https://localhost:8080/"
        },
        "id": "N_22B9RFX3ve",
        "outputId": "ed26fea6-4a80-472c-e1a0-15dfd4e4c3e1"
      },
      "source": [
        "from xgboost import XGBClassifier\n",
        "model = XGBClassifier()\n",
        "model.fit(X_train, y_train)\n",
        "model.score(X_test,y_test)#58080"
      ],
      "execution_count": null,
      "outputs": [
        {
          "output_type": "execute_result",
          "data": {
            "text/plain": [
              "0.846441947565543"
            ]
          },
          "metadata": {
            "tags": []
          },
          "execution_count": 29
        }
      ]
    },
    {
      "cell_type": "code",
      "metadata": {
        "id": "vIpc-0p6AFiv"
      },
      "source": [
        "from keras.models import Sequential\n",
        "from keras.layers import Dense\n",
        "from keras.layers import Dropout\n",
        "import keras"
      ],
      "execution_count": null,
      "outputs": []
    },
    {
      "cell_type": "code",
      "metadata": {
        "colab": {
          "base_uri": "https://localhost:8080/"
        },
        "id": "H9dX14aN_-4s",
        "outputId": "19abcec5-92c8-49f4-d689-dd6b156b624b"
      },
      "source": [
        "model = Sequential()\n",
        "n_cols = X_train.shape[1]\n",
        "model.add(Dense(39, activation='relu', input_shape=(n_cols,)))\n",
        "model.add(Dense(27, activation='selu'))\n",
        "model.add(Dense(19, activation='softplus'))\n",
        "model.add(Dense(1, kernel_regularizer=keras.regularizers.l2(1e-2),activation='sigmoid'))\n",
        "model.compile(optimizer=keras.optimizers.Adam(learning_rate=0.0001), loss='binary_crossentropy',metrics=['accuracy'])\n",
        "model.fit(X_train, y_train, shuffle=False,epochs=160 )"
      ],
      "execution_count": null,
      "outputs": [
        {
          "output_type": "stream",
          "text": [
            "Epoch 1/160\n",
            "20/20 [==============================] - 1s 2ms/step - loss: 2.0463 - accuracy: 0.5867\n",
            "Epoch 2/160\n",
            "20/20 [==============================] - 0s 2ms/step - loss: 1.6184 - accuracy: 0.5867\n",
            "Epoch 3/160\n",
            "20/20 [==============================] - 0s 2ms/step - loss: 1.2583 - accuracy: 0.5867\n",
            "Epoch 4/160\n",
            "20/20 [==============================] - 0s 2ms/step - loss: 0.9820 - accuracy: 0.5867\n",
            "Epoch 5/160\n",
            "20/20 [==============================] - 0s 2ms/step - loss: 0.8144 - accuracy: 0.5867\n",
            "Epoch 6/160\n",
            "20/20 [==============================] - 0s 2ms/step - loss: 0.7437 - accuracy: 0.5867\n",
            "Epoch 7/160\n",
            "20/20 [==============================] - 0s 2ms/step - loss: 0.7227 - accuracy: 0.5867\n",
            "Epoch 8/160\n",
            "20/20 [==============================] - 0s 2ms/step - loss: 0.7163 - accuracy: 0.5867\n",
            "Epoch 9/160\n",
            "20/20 [==============================] - 0s 2ms/step - loss: 0.7130 - accuracy: 0.5867\n",
            "Epoch 10/160\n",
            "20/20 [==============================] - 0s 2ms/step - loss: 0.7102 - accuracy: 0.5867\n",
            "Epoch 11/160\n",
            "20/20 [==============================] - 0s 2ms/step - loss: 0.7076 - accuracy: 0.5867\n",
            "Epoch 12/160\n",
            "20/20 [==============================] - 0s 2ms/step - loss: 0.7050 - accuracy: 0.5867\n",
            "Epoch 13/160\n",
            "20/20 [==============================] - 0s 3ms/step - loss: 0.7024 - accuracy: 0.5867\n",
            "Epoch 14/160\n",
            "20/20 [==============================] - 0s 2ms/step - loss: 0.6997 - accuracy: 0.5867\n",
            "Epoch 15/160\n",
            "20/20 [==============================] - 0s 2ms/step - loss: 0.6970 - accuracy: 0.5867\n",
            "Epoch 16/160\n",
            "20/20 [==============================] - 0s 2ms/step - loss: 0.6943 - accuracy: 0.5867\n",
            "Epoch 17/160\n",
            "20/20 [==============================] - 0s 2ms/step - loss: 0.6916 - accuracy: 0.5908\n",
            "Epoch 18/160\n",
            "20/20 [==============================] - 0s 2ms/step - loss: 0.6888 - accuracy: 0.5908\n",
            "Epoch 19/160\n",
            "20/20 [==============================] - 0s 2ms/step - loss: 0.6860 - accuracy: 0.5908\n",
            "Epoch 20/160\n",
            "20/20 [==============================] - 0s 2ms/step - loss: 0.6831 - accuracy: 0.5940\n",
            "Epoch 21/160\n",
            "20/20 [==============================] - 0s 2ms/step - loss: 0.6802 - accuracy: 0.5940\n",
            "Epoch 22/160\n",
            "20/20 [==============================] - 0s 2ms/step - loss: 0.6774 - accuracy: 0.5951\n",
            "Epoch 23/160\n",
            "20/20 [==============================] - 0s 2ms/step - loss: 0.6744 - accuracy: 0.5954\n",
            "Epoch 24/160\n",
            "20/20 [==============================] - 0s 2ms/step - loss: 0.6715 - accuracy: 0.5954\n",
            "Epoch 25/160\n",
            "20/20 [==============================] - 0s 2ms/step - loss: 0.6685 - accuracy: 0.5956\n",
            "Epoch 26/160\n",
            "20/20 [==============================] - 0s 2ms/step - loss: 0.6656 - accuracy: 0.5956\n",
            "Epoch 27/160\n",
            "20/20 [==============================] - 0s 2ms/step - loss: 0.6627 - accuracy: 0.6011\n",
            "Epoch 28/160\n",
            "20/20 [==============================] - 0s 2ms/step - loss: 0.6598 - accuracy: 0.6011\n",
            "Epoch 29/160\n",
            "20/20 [==============================] - 0s 2ms/step - loss: 0.6571 - accuracy: 0.6021\n",
            "Epoch 30/160\n",
            "20/20 [==============================] - 0s 2ms/step - loss: 0.6544 - accuracy: 0.6048\n",
            "Epoch 31/160\n",
            "20/20 [==============================] - 0s 2ms/step - loss: 0.6517 - accuracy: 0.6071\n",
            "Epoch 32/160\n",
            "20/20 [==============================] - 0s 2ms/step - loss: 0.6491 - accuracy: 0.6106\n",
            "Epoch 33/160\n",
            "20/20 [==============================] - 0s 2ms/step - loss: 0.6466 - accuracy: 0.6129\n",
            "Epoch 34/160\n",
            "20/20 [==============================] - 0s 2ms/step - loss: 0.6440 - accuracy: 0.6168\n",
            "Epoch 35/160\n",
            "20/20 [==============================] - 0s 2ms/step - loss: 0.6415 - accuracy: 0.6187\n",
            "Epoch 36/160\n",
            "20/20 [==============================] - 0s 2ms/step - loss: 0.6390 - accuracy: 0.6250\n",
            "Epoch 37/160\n",
            "20/20 [==============================] - 0s 2ms/step - loss: 0.6364 - accuracy: 0.6318\n",
            "Epoch 38/160\n",
            "20/20 [==============================] - 0s 2ms/step - loss: 0.6338 - accuracy: 0.6358\n",
            "Epoch 39/160\n",
            "20/20 [==============================] - 0s 2ms/step - loss: 0.6312 - accuracy: 0.6405\n",
            "Epoch 40/160\n",
            "20/20 [==============================] - 0s 2ms/step - loss: 0.6285 - accuracy: 0.6495\n",
            "Epoch 41/160\n",
            "20/20 [==============================] - 0s 2ms/step - loss: 0.6257 - accuracy: 0.6624\n",
            "Epoch 42/160\n",
            "20/20 [==============================] - 0s 2ms/step - loss: 0.6229 - accuracy: 0.6637\n",
            "Epoch 43/160\n",
            "20/20 [==============================] - 0s 2ms/step - loss: 0.6201 - accuracy: 0.6649\n",
            "Epoch 44/160\n",
            "20/20 [==============================] - 0s 2ms/step - loss: 0.6172 - accuracy: 0.6659\n",
            "Epoch 45/160\n",
            "20/20 [==============================] - 0s 2ms/step - loss: 0.6143 - accuracy: 0.6677\n",
            "Epoch 46/160\n",
            "20/20 [==============================] - 0s 2ms/step - loss: 0.6114 - accuracy: 0.6737\n",
            "Epoch 47/160\n",
            "20/20 [==============================] - 0s 2ms/step - loss: 0.6085 - accuracy: 0.6643\n",
            "Epoch 48/160\n",
            "20/20 [==============================] - 0s 2ms/step - loss: 0.6057 - accuracy: 0.6638\n",
            "Epoch 49/160\n",
            "20/20 [==============================] - 0s 2ms/step - loss: 0.6030 - accuracy: 0.6687\n",
            "Epoch 50/160\n",
            "20/20 [==============================] - 0s 2ms/step - loss: 0.6003 - accuracy: 0.6721\n",
            "Epoch 51/160\n",
            "20/20 [==============================] - 0s 2ms/step - loss: 0.5976 - accuracy: 0.6731\n",
            "Epoch 52/160\n",
            "20/20 [==============================] - 0s 2ms/step - loss: 0.5950 - accuracy: 0.6731\n",
            "Epoch 53/160\n",
            "20/20 [==============================] - 0s 2ms/step - loss: 0.5923 - accuracy: 0.6793\n",
            "Epoch 54/160\n",
            "20/20 [==============================] - 0s 2ms/step - loss: 0.5895 - accuracy: 0.6857\n",
            "Epoch 55/160\n",
            "20/20 [==============================] - 0s 2ms/step - loss: 0.5870 - accuracy: 0.7076\n",
            "Epoch 56/160\n",
            "20/20 [==============================] - 0s 2ms/step - loss: 0.5844 - accuracy: 0.7097\n",
            "Epoch 57/160\n",
            "20/20 [==============================] - 0s 2ms/step - loss: 0.5819 - accuracy: 0.7115\n",
            "Epoch 58/160\n",
            "20/20 [==============================] - 0s 2ms/step - loss: 0.5795 - accuracy: 0.7180\n",
            "Epoch 59/160\n",
            "20/20 [==============================] - 0s 2ms/step - loss: 0.5771 - accuracy: 0.7186\n",
            "Epoch 60/160\n",
            "20/20 [==============================] - 0s 2ms/step - loss: 0.5748 - accuracy: 0.7240\n",
            "Epoch 61/160\n",
            "20/20 [==============================] - 0s 2ms/step - loss: 0.5726 - accuracy: 0.7252\n",
            "Epoch 62/160\n",
            "20/20 [==============================] - 0s 2ms/step - loss: 0.5704 - accuracy: 0.7246\n",
            "Epoch 63/160\n",
            "20/20 [==============================] - 0s 2ms/step - loss: 0.5682 - accuracy: 0.7269\n",
            "Epoch 64/160\n",
            "20/20 [==============================] - 0s 2ms/step - loss: 0.5661 - accuracy: 0.7271\n",
            "Epoch 65/160\n",
            "20/20 [==============================] - 0s 2ms/step - loss: 0.5640 - accuracy: 0.7271\n",
            "Epoch 66/160\n",
            "20/20 [==============================] - 0s 2ms/step - loss: 0.5619 - accuracy: 0.7271\n",
            "Epoch 67/160\n",
            "20/20 [==============================] - 0s 2ms/step - loss: 0.5599 - accuracy: 0.7239\n",
            "Epoch 68/160\n",
            "20/20 [==============================] - 0s 2ms/step - loss: 0.5579 - accuracy: 0.7266\n",
            "Epoch 69/160\n",
            "20/20 [==============================] - 0s 2ms/step - loss: 0.5559 - accuracy: 0.7266\n",
            "Epoch 70/160\n",
            "20/20 [==============================] - 0s 2ms/step - loss: 0.5540 - accuracy: 0.7267\n",
            "Epoch 71/160\n",
            "20/20 [==============================] - 0s 2ms/step - loss: 0.5520 - accuracy: 0.7321\n",
            "Epoch 72/160\n",
            "20/20 [==============================] - 0s 2ms/step - loss: 0.5501 - accuracy: 0.7324\n",
            "Epoch 73/160\n",
            "20/20 [==============================] - 0s 2ms/step - loss: 0.5482 - accuracy: 0.7356\n",
            "Epoch 74/160\n",
            "20/20 [==============================] - 0s 2ms/step - loss: 0.5464 - accuracy: 0.7356\n",
            "Epoch 75/160\n",
            "20/20 [==============================] - 0s 2ms/step - loss: 0.5446 - accuracy: 0.7374\n",
            "Epoch 76/160\n",
            "20/20 [==============================] - 0s 2ms/step - loss: 0.5427 - accuracy: 0.7374\n",
            "Epoch 77/160\n",
            "20/20 [==============================] - 0s 2ms/step - loss: 0.5410 - accuracy: 0.7363\n",
            "Epoch 78/160\n",
            "20/20 [==============================] - 0s 2ms/step - loss: 0.5392 - accuracy: 0.7368\n",
            "Epoch 79/160\n",
            "20/20 [==============================] - 0s 2ms/step - loss: 0.5376 - accuracy: 0.7397\n",
            "Epoch 80/160\n",
            "20/20 [==============================] - 0s 2ms/step - loss: 0.5358 - accuracy: 0.7458\n",
            "Epoch 81/160\n",
            "20/20 [==============================] - 0s 2ms/step - loss: 0.5341 - accuracy: 0.7476\n",
            "Epoch 82/160\n",
            "20/20 [==============================] - 0s 2ms/step - loss: 0.5325 - accuracy: 0.7518\n",
            "Epoch 83/160\n",
            "20/20 [==============================] - 0s 2ms/step - loss: 0.5308 - accuracy: 0.7528\n",
            "Epoch 84/160\n",
            "20/20 [==============================] - 0s 2ms/step - loss: 0.5291 - accuracy: 0.7530\n",
            "Epoch 85/160\n",
            "20/20 [==============================] - 0s 2ms/step - loss: 0.5276 - accuracy: 0.7578\n",
            "Epoch 86/160\n",
            "20/20 [==============================] - 0s 2ms/step - loss: 0.5260 - accuracy: 0.7596\n",
            "Epoch 87/160\n",
            "20/20 [==============================] - 0s 2ms/step - loss: 0.5244 - accuracy: 0.7600\n",
            "Epoch 88/160\n",
            "20/20 [==============================] - 0s 2ms/step - loss: 0.5229 - accuracy: 0.7607\n",
            "Epoch 89/160\n",
            "20/20 [==============================] - 0s 2ms/step - loss: 0.5213 - accuracy: 0.7607\n",
            "Epoch 90/160\n",
            "20/20 [==============================] - 0s 2ms/step - loss: 0.5198 - accuracy: 0.7607\n",
            "Epoch 91/160\n",
            "20/20 [==============================] - 0s 2ms/step - loss: 0.5183 - accuracy: 0.7628\n",
            "Epoch 92/160\n",
            "20/20 [==============================] - 0s 2ms/step - loss: 0.5168 - accuracy: 0.7628\n",
            "Epoch 93/160\n",
            "20/20 [==============================] - 0s 2ms/step - loss: 0.5154 - accuracy: 0.7628\n",
            "Epoch 94/160\n",
            "20/20 [==============================] - 0s 2ms/step - loss: 0.5140 - accuracy: 0.7630\n",
            "Epoch 95/160\n",
            "20/20 [==============================] - 0s 2ms/step - loss: 0.5125 - accuracy: 0.7670\n",
            "Epoch 96/160\n",
            "20/20 [==============================] - 0s 2ms/step - loss: 0.5111 - accuracy: 0.7664\n",
            "Epoch 97/160\n",
            "20/20 [==============================] - 0s 2ms/step - loss: 0.5097 - accuracy: 0.7673\n",
            "Epoch 98/160\n",
            "20/20 [==============================] - 0s 2ms/step - loss: 0.5084 - accuracy: 0.7671\n",
            "Epoch 99/160\n",
            "20/20 [==============================] - 0s 2ms/step - loss: 0.5070 - accuracy: 0.7671\n",
            "Epoch 100/160\n",
            "20/20 [==============================] - 0s 2ms/step - loss: 0.5057 - accuracy: 0.7675\n",
            "Epoch 101/160\n",
            "20/20 [==============================] - 0s 2ms/step - loss: 0.5044 - accuracy: 0.7664\n",
            "Epoch 102/160\n",
            "20/20 [==============================] - 0s 2ms/step - loss: 0.5031 - accuracy: 0.7687\n",
            "Epoch 103/160\n",
            "20/20 [==============================] - 0s 2ms/step - loss: 0.5018 - accuracy: 0.7723\n",
            "Epoch 104/160\n",
            "20/20 [==============================] - 0s 2ms/step - loss: 0.5005 - accuracy: 0.7699\n",
            "Epoch 105/160\n",
            "20/20 [==============================] - 0s 2ms/step - loss: 0.4992 - accuracy: 0.7705\n",
            "Epoch 106/160\n",
            "20/20 [==============================] - 0s 2ms/step - loss: 0.4980 - accuracy: 0.7770\n",
            "Epoch 107/160\n",
            "20/20 [==============================] - 0s 2ms/step - loss: 0.4967 - accuracy: 0.7770\n",
            "Epoch 108/160\n",
            "20/20 [==============================] - 0s 2ms/step - loss: 0.4955 - accuracy: 0.7792\n",
            "Epoch 109/160\n",
            "20/20 [==============================] - 0s 2ms/step - loss: 0.4943 - accuracy: 0.7869\n",
            "Epoch 110/160\n",
            "20/20 [==============================] - 0s 2ms/step - loss: 0.4932 - accuracy: 0.7869\n",
            "Epoch 111/160\n",
            "20/20 [==============================] - 0s 2ms/step - loss: 0.4920 - accuracy: 0.7880\n",
            "Epoch 112/160\n",
            "20/20 [==============================] - 0s 2ms/step - loss: 0.4909 - accuracy: 0.7833\n",
            "Epoch 113/160\n",
            "20/20 [==============================] - 0s 2ms/step - loss: 0.4898 - accuracy: 0.7831\n",
            "Epoch 114/160\n",
            "20/20 [==============================] - 0s 2ms/step - loss: 0.4887 - accuracy: 0.7838\n",
            "Epoch 115/160\n",
            "20/20 [==============================] - 0s 2ms/step - loss: 0.4877 - accuracy: 0.7838\n",
            "Epoch 116/160\n",
            "20/20 [==============================] - 0s 2ms/step - loss: 0.4866 - accuracy: 0.7855\n",
            "Epoch 117/160\n",
            "20/20 [==============================] - 0s 2ms/step - loss: 0.4856 - accuracy: 0.7857\n",
            "Epoch 118/160\n",
            "20/20 [==============================] - 0s 2ms/step - loss: 0.4846 - accuracy: 0.7857\n",
            "Epoch 119/160\n",
            "20/20 [==============================] - 0s 2ms/step - loss: 0.4836 - accuracy: 0.7857\n",
            "Epoch 120/160\n",
            "20/20 [==============================] - 0s 2ms/step - loss: 0.4826 - accuracy: 0.7857\n",
            "Epoch 121/160\n",
            "20/20 [==============================] - 0s 2ms/step - loss: 0.4817 - accuracy: 0.7857\n",
            "Epoch 122/160\n",
            "20/20 [==============================] - 0s 2ms/step - loss: 0.4808 - accuracy: 0.7857\n",
            "Epoch 123/160\n",
            "20/20 [==============================] - 0s 2ms/step - loss: 0.4799 - accuracy: 0.7857\n",
            "Epoch 124/160\n",
            "20/20 [==============================] - 0s 2ms/step - loss: 0.4790 - accuracy: 0.7857\n",
            "Epoch 125/160\n",
            "20/20 [==============================] - 0s 2ms/step - loss: 0.4781 - accuracy: 0.7862\n",
            "Epoch 126/160\n",
            "20/20 [==============================] - 0s 2ms/step - loss: 0.4773 - accuracy: 0.7941\n",
            "Epoch 127/160\n",
            "20/20 [==============================] - 0s 2ms/step - loss: 0.4765 - accuracy: 0.7927\n",
            "Epoch 128/160\n",
            "20/20 [==============================] - 0s 2ms/step - loss: 0.4756 - accuracy: 0.7927\n",
            "Epoch 129/160\n",
            "20/20 [==============================] - 0s 2ms/step - loss: 0.4749 - accuracy: 0.7927\n",
            "Epoch 130/160\n",
            "20/20 [==============================] - 0s 2ms/step - loss: 0.4741 - accuracy: 0.7927\n",
            "Epoch 131/160\n",
            "20/20 [==============================] - 0s 2ms/step - loss: 0.4733 - accuracy: 0.7919\n",
            "Epoch 132/160\n",
            "20/20 [==============================] - 0s 2ms/step - loss: 0.4726 - accuracy: 0.7919\n",
            "Epoch 133/160\n",
            "20/20 [==============================] - 0s 2ms/step - loss: 0.4718 - accuracy: 0.7919\n",
            "Epoch 134/160\n",
            "20/20 [==============================] - 0s 2ms/step - loss: 0.4711 - accuracy: 0.7899\n",
            "Epoch 135/160\n",
            "20/20 [==============================] - 0s 2ms/step - loss: 0.4704 - accuracy: 0.7855\n",
            "Epoch 136/160\n",
            "20/20 [==============================] - 0s 2ms/step - loss: 0.4697 - accuracy: 0.7830\n",
            "Epoch 137/160\n",
            "20/20 [==============================] - 0s 2ms/step - loss: 0.4690 - accuracy: 0.7830\n",
            "Epoch 138/160\n",
            "20/20 [==============================] - 0s 2ms/step - loss: 0.4684 - accuracy: 0.7862\n",
            "Epoch 139/160\n",
            "20/20 [==============================] - 0s 2ms/step - loss: 0.4677 - accuracy: 0.7862\n",
            "Epoch 140/160\n",
            "20/20 [==============================] - 0s 2ms/step - loss: 0.4671 - accuracy: 0.7925\n",
            "Epoch 141/160\n",
            "20/20 [==============================] - 0s 2ms/step - loss: 0.4665 - accuracy: 0.7928\n",
            "Epoch 142/160\n",
            "20/20 [==============================] - 0s 2ms/step - loss: 0.4659 - accuracy: 0.7937\n",
            "Epoch 143/160\n",
            "20/20 [==============================] - 0s 2ms/step - loss: 0.4653 - accuracy: 0.7929\n",
            "Epoch 144/160\n",
            "20/20 [==============================] - 0s 2ms/step - loss: 0.4648 - accuracy: 0.7929\n",
            "Epoch 145/160\n",
            "20/20 [==============================] - 0s 2ms/step - loss: 0.4642 - accuracy: 0.7927\n",
            "Epoch 146/160\n",
            "20/20 [==============================] - 0s 2ms/step - loss: 0.4637 - accuracy: 0.7945\n",
            "Epoch 147/160\n",
            "20/20 [==============================] - 0s 2ms/step - loss: 0.4632 - accuracy: 0.7933\n",
            "Epoch 148/160\n",
            "20/20 [==============================] - 0s 2ms/step - loss: 0.4626 - accuracy: 0.7929\n",
            "Epoch 149/160\n",
            "20/20 [==============================] - 0s 2ms/step - loss: 0.4622 - accuracy: 0.7942\n",
            "Epoch 150/160\n",
            "20/20 [==============================] - 0s 2ms/step - loss: 0.4617 - accuracy: 0.7942\n",
            "Epoch 151/160\n",
            "20/20 [==============================] - 0s 2ms/step - loss: 0.4612 - accuracy: 0.7942\n",
            "Epoch 152/160\n",
            "20/20 [==============================] - 0s 2ms/step - loss: 0.4608 - accuracy: 0.7979\n",
            "Epoch 153/160\n",
            "20/20 [==============================] - 0s 2ms/step - loss: 0.4603 - accuracy: 0.7979\n",
            "Epoch 154/160\n",
            "20/20 [==============================] - 0s 2ms/step - loss: 0.4599 - accuracy: 0.7974\n",
            "Epoch 155/160\n",
            "20/20 [==============================] - 0s 2ms/step - loss: 0.4594 - accuracy: 0.7974\n",
            "Epoch 156/160\n",
            "20/20 [==============================] - 0s 2ms/step - loss: 0.4590 - accuracy: 0.7974\n",
            "Epoch 157/160\n",
            "20/20 [==============================] - 0s 2ms/step - loss: 0.4586 - accuracy: 0.8028\n",
            "Epoch 158/160\n",
            "20/20 [==============================] - 0s 2ms/step - loss: 0.4582 - accuracy: 0.8028\n",
            "Epoch 159/160\n",
            "20/20 [==============================] - 0s 2ms/step - loss: 0.4578 - accuracy: 0.8008\n",
            "Epoch 160/160\n",
            "20/20 [==============================] - 0s 2ms/step - loss: 0.4574 - accuracy: 0.8008\n"
          ],
          "name": "stdout"
        },
        {
          "output_type": "execute_result",
          "data": {
            "text/plain": [
              "<tensorflow.python.keras.callbacks.History at 0x7f3e851783d0>"
            ]
          },
          "metadata": {
            "tags": []
          },
          "execution_count": 31
        }
      ]
    },
    {
      "cell_type": "code",
      "metadata": {
        "colab": {
          "base_uri": "https://localhost:8080/"
        },
        "id": "L55YJZFTABiM",
        "outputId": "826db186-d404-4cfb-fefa-4b47891f2bd8"
      },
      "source": [
        "model.evaluate(X_test,y_test,verbose=0)"
      ],
      "execution_count": null,
      "outputs": [
        {
          "output_type": "execute_result",
          "data": {
            "text/plain": [
              "[0.431567519903183, 0.8576778769493103]"
            ]
          },
          "metadata": {
            "tags": []
          },
          "execution_count": 32
        }
      ]
    },
    {
      "cell_type": "code",
      "metadata": {
        "colab": {
          "base_uri": "https://localhost:8080/"
        },
        "id": "9jZsdioifCyu",
        "outputId": "a73349e1-8d0e-439a-ec88-bef1fee83276"
      },
      "source": [
        "pip install pyswarms"
      ],
      "execution_count": null,
      "outputs": [
        {
          "output_type": "stream",
          "text": [
            "Collecting pyswarms\n",
            "\u001b[?25l  Downloading https://files.pythonhosted.org/packages/d1/fd/5c2baba82425b75baf7dbec5af57219cd252aa8a1ace4f5cd1d88e472276/pyswarms-1.3.0-py2.py3-none-any.whl (104kB)\n",
            "\r\u001b[K     |███▏                            | 10kB 16.9MB/s eta 0:00:01\r\u001b[K     |██████▎                         | 20kB 20.7MB/s eta 0:00:01\r\u001b[K     |█████████▍                      | 30kB 9.3MB/s eta 0:00:01\r\u001b[K     |████████████▋                   | 40kB 8.5MB/s eta 0:00:01\r\u001b[K     |███████████████▊                | 51kB 6.9MB/s eta 0:00:01\r\u001b[K     |██████████████████▉             | 61kB 7.1MB/s eta 0:00:01\r\u001b[K     |██████████████████████          | 71kB 7.0MB/s eta 0:00:01\r\u001b[K     |█████████████████████████▏      | 81kB 7.1MB/s eta 0:00:01\r\u001b[K     |████████████████████████████▎   | 92kB 7.2MB/s eta 0:00:01\r\u001b[K     |███████████████████████████████▌| 102kB 6.6MB/s eta 0:00:01\r\u001b[K     |████████████████████████████████| 112kB 6.6MB/s \n",
            "\u001b[?25hRequirement already satisfied: scipy in /usr/local/lib/python3.7/dist-packages (from pyswarms) (1.4.1)\n",
            "Requirement already satisfied: pyyaml in /usr/local/lib/python3.7/dist-packages (from pyswarms) (3.13)\n",
            "Requirement already satisfied: numpy in /usr/local/lib/python3.7/dist-packages (from pyswarms) (1.19.5)\n",
            "Requirement already satisfied: tqdm in /usr/local/lib/python3.7/dist-packages (from pyswarms) (4.41.1)\n",
            "Requirement already satisfied: attrs in /usr/local/lib/python3.7/dist-packages (from pyswarms) (20.3.0)\n",
            "Requirement already satisfied: matplotlib>=1.3.1 in /usr/local/lib/python3.7/dist-packages (from pyswarms) (3.2.2)\n",
            "Requirement already satisfied: future in /usr/local/lib/python3.7/dist-packages (from pyswarms) (0.16.0)\n",
            "Requirement already satisfied: python-dateutil>=2.1 in /usr/local/lib/python3.7/dist-packages (from matplotlib>=1.3.1->pyswarms) (2.8.1)\n",
            "Requirement already satisfied: cycler>=0.10 in /usr/local/lib/python3.7/dist-packages (from matplotlib>=1.3.1->pyswarms) (0.10.0)\n",
            "Requirement already satisfied: kiwisolver>=1.0.1 in /usr/local/lib/python3.7/dist-packages (from matplotlib>=1.3.1->pyswarms) (1.3.1)\n",
            "Requirement already satisfied: pyparsing!=2.0.4,!=2.1.2,!=2.1.6,>=2.0.1 in /usr/local/lib/python3.7/dist-packages (from matplotlib>=1.3.1->pyswarms) (2.4.7)\n",
            "Requirement already satisfied: six>=1.5 in /usr/local/lib/python3.7/dist-packages (from python-dateutil>=2.1->matplotlib>=1.3.1->pyswarms) (1.15.0)\n",
            "Installing collected packages: pyswarms\n",
            "Successfully installed pyswarms-1.3.0\n"
          ],
          "name": "stdout"
        }
      ]
    },
    {
      "cell_type": "code",
      "metadata": {
        "id": "W_6JQrwQALw8"
      },
      "source": [
        "import numpy as np\n",
        "import matplotlib.pyplot as plt\n",
        "import pyswarms as ps\n",
        "%load_ext autoreload\n",
        "%autoreload 2"
      ],
      "execution_count": null,
      "outputs": []
    },
    {
      "cell_type": "code",
      "metadata": {
        "id": "FtiqnwMEgpVX"
      },
      "source": [
        "INPUT_NODES = 6\n",
        "HIDDEN_NODES = 20\n",
        "OUTPUT_NODES = 2"
      ],
      "execution_count": null,
      "outputs": []
    },
    {
      "cell_type": "code",
      "metadata": {
        "id": "2h7jU5A0l1sU"
      },
      "source": [
        "def one_hot_encode(Y):\n",
        "    \"\"\"\n",
        "    create one-hot encoded vectors from target labels(Y).\n",
        "    :param Y: int(N, )\n",
        "    :return: int(N, C)\n",
        "        Returns an array of shape(N, C) where C is number of classes.\n",
        "    \"\"\"\n",
        "    num_unique = len(np.unique(np.array(Y)))\n",
        "    zeros = np.zeros((len(Y), num_unique))\n",
        "    zeros[range(len(Y)), Y] = 1\n",
        "    return zeros"
      ],
      "execution_count": null,
      "outputs": []
    },
    {
      "cell_type": "code",
      "metadata": {
        "id": "XC-kpN-6l1ux"
      },
      "source": [
        "def softmax(logits):\n",
        "    \"\"\"\n",
        "    Apply softmax function on logits and return probabilities.\n",
        "    :param logits: double(N, C)\n",
        "        Logits of each instance for each class.\n",
        "    :return: double(N, C)\n",
        "        probability for each class of each instance.\n",
        "    \"\"\"\n",
        "    exps = np.exp(logits)\n",
        "    return exps / np.sum(exps, axis=1, keepdims=True)"
      ],
      "execution_count": null,
      "outputs": []
    },
    {
      "cell_type": "code",
      "metadata": {
        "id": "i6cRmMpdl1xU"
      },
      "source": [
        "def Negative_Likelihood(probs, Y):\n",
        "    \"\"\"\n",
        "    Calculates Negative Log Likelihood loss.\n",
        "    :param probs: double(N, C)\n",
        "        Probability of each instance for each class.\n",
        "    :param Y: int(N, )\n",
        "        Integer representation of each class.\n",
        "    :return: double\n",
        "        Returns value of loss calculated.\n",
        "    \"\"\"\n",
        "    num_samples = len(probs)\n",
        "    corect_logprobs = -np.log(probs[range(num_samples), Y])\n",
        "    return np.sum(corect_logprobs) / num_samples\n",
        "\n",
        "def Cross_Entropy(probs, Y):\n",
        "    \"\"\"\n",
        "    Calculates Categorical Cross Entropy loss.\n",
        "    :param probs: double(N, C)\n",
        "        Probability of each instance for each class.\n",
        "    :param Y: int(N, C)\n",
        "        One-hot encoded representation of classes.\n",
        "    :return: double\n",
        "        Returns value of loss calculated.\n",
        "    \"\"\"\n",
        "    num_samples = len(probs)\n",
        "    ind_loss = np.max(-1 * Y * np.log(probs + 1e-12), axis=1)\n",
        "    return np.sum(ind_loss) / num_samples"
      ],
      "execution_count": null,
      "outputs": []
    },
    {
      "cell_type": "code",
      "metadata": {
        "id": "FNPy6q0xl1zs"
      },
      "source": [
        "def forward_pass(X, Y, W):\n",
        "    \"\"\"\n",
        "    Performs forward pass during Neural Net training.\n",
        "    :param X: double(N, F)\n",
        "        X is input where N is number of instances and F is number of features.\n",
        "    :param Y: int(N, ) | int(N, C)\n",
        "        Y is target where N is number of instances and C is number of classes in case of\n",
        "        one-hot encoded target.\n",
        "    :param W: double(N, )\n",
        "        Weights where N is number of total weights(flatten).\n",
        "    :return: double\n",
        "        Returns loss of forward pass.\n",
        "    \"\"\"\n",
        "\n",
        "    if isinstance(W, Particle):\n",
        "        W = W.x\n",
        "\n",
        "    w1 = W[0 : INPUT_NODES * HIDDEN_NODES].reshape((INPUT_NODES, HIDDEN_NODES))\n",
        "    b1 = W[INPUT_NODES * HIDDEN_NODES:(INPUT_NODES * HIDDEN_NODES) + HIDDEN_NODES].reshape((HIDDEN_NODES, ))\n",
        "    w2 = W[(INPUT_NODES * HIDDEN_NODES) + HIDDEN_NODES:(INPUT_NODES * HIDDEN_NODES) + HIDDEN_NODES +\\\n",
        "        (HIDDEN_NODES * OUTPUT_NODES)].reshape((HIDDEN_NODES, OUTPUT_NODES))\n",
        "    b2 = W[(INPUT_NODES * HIDDEN_NODES) + HIDDEN_NODES + (HIDDEN_NODES * OUTPUT_NODES): (INPUT_NODES *\\\n",
        "        HIDDEN_NODES) + HIDDEN_NODES + (HIDDEN_NODES * OUTPUT_NODES) + OUTPUT_NODES].reshape((OUTPUT_NODES, ))\n",
        "\n",
        "\n",
        "    z1 = np.dot(X, w1) + b1\n",
        "    a1 = np.tanh(z1)\n",
        "    z2 = np.dot(a1, w2) + b2\n",
        "    logits = z2\n",
        "\n",
        "    probs = softmax(logits)\n",
        "    return Negative_Likelihood(probs, Y)\n",
        "    "
      ],
      "execution_count": null,
      "outputs": []
    },
    {
      "cell_type": "code",
      "metadata": {
        "id": "aEBYcHn9l12K"
      },
      "source": [
        "def predict(X, W):\n",
        "    \"\"\"\n",
        "    Performs forward pass during Neural Net test.\n",
        "    :param X: double(N, F)\n",
        "        X is input where N is number of instances and F is number of features.\n",
        "    :param W: double(N, )\n",
        "        Weights where N is number of total weights(flatten).\n",
        "    :return: int(N, )\n",
        "        Returns predicted classes.\n",
        "    \"\"\"\n",
        "\n",
        "    w1 = W[0: INPUT_NODES * HIDDEN_NODES].reshape((INPUT_NODES, HIDDEN_NODES))\n",
        "    b1 = W[INPUT_NODES * HIDDEN_NODES:(INPUT_NODES * HIDDEN_NODES) + HIDDEN_NODES].reshape((HIDDEN_NODES,))\n",
        "    w2 = W[(INPUT_NODES * HIDDEN_NODES) + HIDDEN_NODES:(INPUT_NODES * HIDDEN_NODES) + HIDDEN_NODES + \\\n",
        "        (HIDDEN_NODES * OUTPUT_NODES)].reshape((HIDDEN_NODES, OUTPUT_NODES))\n",
        "    b2 = W[(INPUT_NODES * HIDDEN_NODES) + HIDDEN_NODES + (HIDDEN_NODES * OUTPUT_NODES): (INPUT_NODES * \\\n",
        "        HIDDEN_NODES) + HIDDEN_NODES + (HIDDEN_NODES * OUTPUT_NODES) + OUTPUT_NODES].reshape((OUTPUT_NODES,))\n",
        "\n",
        "    z1 = np.dot(X, w1) + b1\n",
        "    a1 = np.tanh(z1)\n",
        "    z2 = np.dot(a1, w2) + b2\n",
        "    logits = z2\n",
        "\n",
        "    probs = softmax(logits)\n",
        "    Y_pred =  np.argmax(probs, axis=1)\n",
        "    return Y_pred"
      ],
      "execution_count": null,
      "outputs": []
    },
    {
      "cell_type": "code",
      "metadata": {
        "id": "X1zwyHfRl14m"
      },
      "source": [
        "\n",
        "def get_accuracy(Y, Y_pred):\n",
        "    \"\"\"\n",
        "    Calcualtes accuracy.\n",
        "    :param Y: int(N, )\n",
        "        Correct labels.\n",
        "    :param Y_pred: int(N, ) | double(N, C)\n",
        "        Predicted labels of shape(N, ) or (N, C) in case of one-hot vector.\n",
        "    :return: double\n",
        "        Accuracy.\n",
        "    \"\"\"\n",
        "    return (Y == Y_pred).mean()"
      ],
      "execution_count": null,
      "outputs": []
    },
    {
      "cell_type": "code",
      "metadata": {
        "id": "Hk2PdsPbl19g"
      },
      "source": [
        "import numpy as np\n",
        "\n",
        "# This is a PSO(interia weight) variation...\n",
        "class Particle:\n",
        "    \"\"\"\n",
        "    Particle class represents a solution inside a pool(Swarm).\n",
        "    \"\"\"\n",
        "\n",
        "    def __init__(self, no_dim, x_range, v_range):\n",
        "        \"\"\"\n",
        "        Particle class constructor\n",
        "        :param no_dim: int\n",
        "            No of dimensions.\n",
        "        :param x_range: tuple(double)\n",
        "            Min and Max value(range) of dimension.\n",
        "        :param v_range: tuple(double)\n",
        "            Min and Max value(range) of velocity.\n",
        "        \"\"\"\n",
        "        self.x = np.random.uniform(\n",
        "            x_range[0], x_range[1], (no_dim,)\n",
        "        )  # particle position in each dimension...\n",
        "        self.v = np.random.uniform(\n",
        "            v_range[0], v_range[1], (no_dim,)\n",
        "        )  # particle velocity in each dimension...\n",
        "        self.pbest = np.inf\n",
        "        self.pbestpos = np.zeros((no_dim,))\n",
        "\n",
        "\n",
        "class Swarm:\n",
        "    \"\"\"\n",
        "    Swarm class represents a pool of solution(particle).\n",
        "    \"\"\"\n",
        "\n",
        "    def __init__(self, no_particle, no_dim, x_range, v_range, iw_range, c):\n",
        "        \"\"\"\n",
        "        Swarm class constructor.\n",
        "        :param no_particle: int\n",
        "            No of particles(solutions).\n",
        "        :param no_dim: int\n",
        "            No of dimensions.\n",
        "        :param x_range: tuple(double)\n",
        "            Min and Max value(range) of dimension.\n",
        "        :param v_range: tuple(double)\n",
        "            Min and Max value(range) of velocity.\n",
        "        :param iw_range: tuple(double)\n",
        "            Min and Max value(range) of interia weight.\n",
        "        :param c: tuple(double)\n",
        "            c[0] -> cognitive parameter, c[1] -> social parameter.\n",
        "        \"\"\"\n",
        "        self.p = np.array(\n",
        "            [Particle(no_dim, x_range, v_range) for i in range(no_particle)]\n",
        "        )\n",
        "        self.gbest = np.inf\n",
        "        self.gbestpos = np.zeros((no_dim,))\n",
        "        self.x_range = x_range\n",
        "        self.v_range = v_range\n",
        "        self.iw_range = iw_range\n",
        "        self.c0 = c[0]\n",
        "        self.c1 = c[1]\n",
        "        self.no_dim = no_dim\n",
        "\n",
        "    def optimize(self, function, X, Y, print_step, iter):\n",
        "        \"\"\"\n",
        "        optimize is used start optimization.\n",
        "        :param function: function\n",
        "            Function to be optimized.\n",
        "        :param X: input\n",
        "            Used in forward pass.\n",
        "        :param Y: target\n",
        "            Used to calculate loss.\n",
        "        :param print_step: int\n",
        "            Print pause between two adjacent prints.\n",
        "        :param iter: int\n",
        "            No of iterations.\n",
        "        \"\"\"\n",
        "        for i in range(iter):\n",
        "            for particle in self.p:\n",
        "                fitness = function(X, Y, particle.x)\n",
        "\n",
        "                if fitness < particle.pbest:\n",
        "                    particle.pbest = fitness\n",
        "                    particle.pbestpos = particle.x.copy()\n",
        "\n",
        "                if fitness < self.gbest:\n",
        "                    self.gbest = fitness\n",
        "                    self.gbestpos = particle.x.copy()\n",
        "\n",
        "            for particle in self.p:\n",
        "                # Here iw is inertia weight...\n",
        "                iw = np.random.uniform(self.iw_range[0], self.iw_range[1], 1)[0]\n",
        "                particle.v = (\n",
        "                    iw * particle.v\n",
        "                    + (\n",
        "                        self.c0\n",
        "                        * np.random.uniform(0.0, 1.0, (self.no_dim,))\n",
        "                        * (particle.pbestpos - particle.x)\n",
        "                    )\n",
        "                    + (\n",
        "                        self.c1\n",
        "                        * np.random.uniform(0.0, 1.0, (self.no_dim,))\n",
        "                        * (self.gbestpos - particle.x)\n",
        "                    )\n",
        "                )\n",
        "                # particle.v = particle.v.clip(min=self.v_range[0], max=self.v_range[1])\n",
        "                particle.x = particle.x + particle.v\n",
        "                # particle.x = particle.x.clip(min=self.x_range[0], max=self.x_range[1])\n",
        "\n",
        "            if i % print_step == 0:\n",
        "                print(\"iteration#: \", i + 1, \" loss: \", fitness)\n",
        "\n",
        "        print(\"global best loss: \", self.gbest)\n",
        "\n",
        "    def get_best_solution(self):\n",
        "        \"\"\"\n",
        "        :return: array of parameters/weights.\n",
        "        \"\"\"\n",
        "        return self.gbestpos"
      ],
      "execution_count": null,
      "outputs": []
    },
    {
      "cell_type": "code",
      "metadata": {
        "colab": {
          "base_uri": "https://localhost:8080/"
        },
        "id": "P1UjT2CGl17r",
        "outputId": "332e31aa-7d38-455a-cfea-2301a93099be"
      },
      "source": [
        "if __name__ == '__main__':\n",
        "    no_solution = 100\n",
        "    no_dim = (INPUT_NODES * HIDDEN_NODES) + HIDDEN_NODES + (HIDDEN_NODES * OUTPUT_NODES) + OUTPUT_NODES\n",
        "    w_range = (0.0, 1.0)\n",
        "    lr_range = (0.0, 1.0)\n",
        "    iw_range = (0.9, 0.9)  # iw -> inertial weight...\n",
        "    c = (0.5, 0.3)  # c[0] -> cognitive factor, c[1] -> social factor...\n",
        "\n",
        "    s = Swarm(no_solution, no_dim, w_range, lr_range, iw_range, c)\n",
        "    #Y = one_hot_encode(Y) #Encode here...\n",
        "    s.optimize(forward_pass, X, y, 100, 1000)\n",
        "    W = s.get_best_solution()\n",
        "    Y_pred = predict(X, W)\n",
        "    accuracy = get_accuracy(y, Y_pred)\n",
        "    print(\"Accuracy: %.3f\"% accuracy)"
      ],
      "execution_count": null,
      "outputs": [
        {
          "output_type": "stream",
          "text": [
            "iteration#:  1  loss:  0.8987401253727987\n",
            "iteration#:  101  loss:  0.49903074693877686\n",
            "iteration#:  201  loss:  0.4172877593807635\n",
            "iteration#:  301  loss:  0.4044630693134866\n",
            "iteration#:  401  loss:  0.4011389460831547\n",
            "iteration#:  501  loss:  0.40023320681424784\n",
            "iteration#:  601  loss:  0.39987970043200965\n",
            "iteration#:  701  loss:  0.39878224035949306\n",
            "iteration#:  801  loss:  0.3967333407041454\n",
            "iteration#:  901  loss:  0.39611593287893676\n",
            "global best loss:  0.39607308703119276\n",
            "Accuracy: 0.832\n"
          ],
          "name": "stdout"
        }
      ]
    },
    {
      "cell_type": "code",
      "metadata": {
        "id": "9ZrCtw1rl2CO"
      },
      "source": [
        ""
      ],
      "execution_count": null,
      "outputs": []
    },
    {
      "cell_type": "code",
      "metadata": {
        "id": "yDZAcyuHmV57"
      },
      "source": [
        ""
      ],
      "execution_count": null,
      "outputs": []
    },
    {
      "cell_type": "code",
      "metadata": {
        "id": "SU3pi87ImV8X"
      },
      "source": [
        ""
      ],
      "execution_count": null,
      "outputs": []
    },
    {
      "cell_type": "code",
      "metadata": {
        "id": "ZohR3UidmV-6"
      },
      "source": [
        ""
      ],
      "execution_count": null,
      "outputs": []
    },
    {
      "cell_type": "code",
      "metadata": {
        "id": "BvDynF7nmWBG"
      },
      "source": [
        ""
      ],
      "execution_count": null,
      "outputs": []
    },
    {
      "cell_type": "code",
      "metadata": {
        "id": "y0WCSqC4gpX-"
      },
      "source": [
        ""
      ],
      "execution_count": null,
      "outputs": []
    },
    {
      "cell_type": "code",
      "metadata": {
        "id": "a6RKjOnhIwuG"
      },
      "source": [
        ""
      ],
      "execution_count": null,
      "outputs": []
    },
    {
      "cell_type": "code",
      "metadata": {
        "id": "Ow3umlv2JJob"
      },
      "source": [
        ""
      ],
      "execution_count": null,
      "outputs": []
    }
  ]
}